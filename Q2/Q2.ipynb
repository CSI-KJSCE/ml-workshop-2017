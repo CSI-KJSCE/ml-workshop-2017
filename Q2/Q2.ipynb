{
 "cells": [
  {
   "cell_type": "markdown",
   "metadata": {},
   "source": [
    "# Steps prediction\n"
   ]
  },
  {
   "cell_type": "markdown",
   "metadata": {},
   "source": [
    "About fitbit dataset:\n",
    "    Fitbit Inc. is an American company known for its products of the same name, which are activity trackers, \n",
    "    wireless-enabled wearable technology devices that measure data such as the number of steps walked, heart rate, \n",
    "    quality of sleep, steps climbed, and other personal metrics. The first of these was the Fitbit Tracker."
   ]
  },
  {
   "cell_type": "markdown",
   "metadata": {},
   "source": [
    "For these example fitbit data of CSI member(Vivek rai :P) was collected. Here Machine learning is used to determine number of steps he walked\n",
    "(Count) based on Calories burned and Distance covered\n",
    "Since we want to \"PREDICT\" a missing attribute Regression is used for this example"
   ]
  },
  {
   "cell_type": "markdown",
   "metadata": {},
   "source": [
    "### import libraries\n",
    "Import all the required libraries at once"
   ]
  },
  {
   "cell_type": "code",
   "execution_count": 1,
   "metadata": {
    "collapsed": true
   },
   "outputs": [],
   "source": [
    "import numpy as np\n",
    "import pandas as p\n",
    "import matplotlib.pyplot as plt"
   ]
  },
  {
   "cell_type": "markdown",
   "metadata": {},
   "source": [
    "### Read CSV File (Containing fitbit dataset)"
   ]
  },
  {
   "cell_type": "code",
   "execution_count": 2,
   "metadata": {
    "collapsed": true,
    "scrolled": true
   },
   "outputs": [],
   "source": [
    "fitbit = p.read_csv(\"fitbit_dataset.csv\")"
   ]
  },
  {
   "cell_type": "code",
   "execution_count": 3,
   "metadata": {},
   "outputs": [
    {
     "data": {
      "text/html": [
       "<div>\n",
       "<style>\n",
       "    .dataframe thead tr:only-child th {\n",
       "        text-align: right;\n",
       "    }\n",
       "\n",
       "    .dataframe thead th {\n",
       "        text-align: left;\n",
       "    }\n",
       "\n",
       "    .dataframe tbody tr th {\n",
       "        vertical-align: top;\n",
       "    }\n",
       "</style>\n",
       "<table border=\"1\" class=\"dataframe\">\n",
       "  <thead>\n",
       "    <tr style=\"text-align: right;\">\n",
       "      <th></th>\n",
       "      <th>time_offset</th>\n",
       "      <th>end_time</th>\n",
       "      <th>speed</th>\n",
       "      <th>pkg_name</th>\n",
       "      <th>start_time</th>\n",
       "      <th>count</th>\n",
       "      <th>sample_position_type</th>\n",
       "      <th>calorie</th>\n",
       "      <th>distance</th>\n",
       "      <th>datauuid</th>\n",
       "      <th>deviceuuid</th>\n",
       "      <th>update_time</th>\n",
       "      <th>create_time</th>\n",
       "    </tr>\n",
       "  </thead>\n",
       "  <tbody>\n",
       "    <tr>\n",
       "      <th>0</th>\n",
       "      <td>19800000</td>\n",
       "      <td>57:00.0</td>\n",
       "      <td>1.638889</td>\n",
       "      <td>com.sec.android.app.shealth</td>\n",
       "      <td>56:00.0</td>\n",
       "      <td>5</td>\n",
       "      <td>NaN</td>\n",
       "      <td>0.20</td>\n",
       "      <td>3.20</td>\n",
       "      <td>7ba6b7d2-519c-41f9-8706-d3edafa3b0fc</td>\n",
       "      <td>MdS75U+XxL</td>\n",
       "      <td>23:57.0</td>\n",
       "      <td>23:55.8</td>\n",
       "    </tr>\n",
       "    <tr>\n",
       "      <th>1</th>\n",
       "      <td>19800000</td>\n",
       "      <td>57:00.0</td>\n",
       "      <td>1.638889</td>\n",
       "      <td>com.sec.android.app.shealth</td>\n",
       "      <td>56:00.0</td>\n",
       "      <td>6</td>\n",
       "      <td>NaN</td>\n",
       "      <td>0.24</td>\n",
       "      <td>4.78</td>\n",
       "      <td>7ba6b7d2-519c-41f9-8706-d3edafa3b0fc</td>\n",
       "      <td>MdS75U+XxL</td>\n",
       "      <td>23:57.0</td>\n",
       "      <td>23:55.8</td>\n",
       "    </tr>\n",
       "    <tr>\n",
       "      <th>2</th>\n",
       "      <td>19800000</td>\n",
       "      <td>57:00.0</td>\n",
       "      <td>0.916667</td>\n",
       "      <td>com.sec.android.app.shealth</td>\n",
       "      <td>56:00.0</td>\n",
       "      <td>1</td>\n",
       "      <td>NaN</td>\n",
       "      <td>0.04</td>\n",
       "      <td>0.58</td>\n",
       "      <td>9568572f-f33d-43ed-8dbd-aa7033744b3d</td>\n",
       "      <td>MdS75U+XxL</td>\n",
       "      <td>23:55.8</td>\n",
       "      <td>23:55.8</td>\n",
       "    </tr>\n",
       "    <tr>\n",
       "      <th>3</th>\n",
       "      <td>19800000</td>\n",
       "      <td>53:00.0</td>\n",
       "      <td>2.888889</td>\n",
       "      <td>com.sec.android.app.shealth</td>\n",
       "      <td>52:00.0</td>\n",
       "      <td>25</td>\n",
       "      <td>NaN</td>\n",
       "      <td>2.74</td>\n",
       "      <td>22.26</td>\n",
       "      <td>a144cb82-f4b1-4011-ae2c-7c8754273558</td>\n",
       "      <td>MdS75U+XxL</td>\n",
       "      <td>23:55.8</td>\n",
       "      <td>23:55.8</td>\n",
       "    </tr>\n",
       "    <tr>\n",
       "      <th>4</th>\n",
       "      <td>19800000</td>\n",
       "      <td>57:00.0</td>\n",
       "      <td>1.694444</td>\n",
       "      <td>com.sec.android.app.shealth</td>\n",
       "      <td>56:00.0</td>\n",
       "      <td>12</td>\n",
       "      <td>NaN</td>\n",
       "      <td>0.48</td>\n",
       "      <td>8.85</td>\n",
       "      <td>88278acc-964a-44ca-a4d7-bf696804582f</td>\n",
       "      <td>MdS75U+XxL</td>\n",
       "      <td>23:55.8</td>\n",
       "      <td>23:55.8</td>\n",
       "    </tr>\n",
       "  </tbody>\n",
       "</table>\n",
       "</div>"
      ],
      "text/plain": [
       "   time_offset end_time     speed                     pkg_name start_time  \\\n",
       "0     19800000  57:00.0  1.638889  com.sec.android.app.shealth    56:00.0   \n",
       "1     19800000  57:00.0  1.638889  com.sec.android.app.shealth    56:00.0   \n",
       "2     19800000  57:00.0  0.916667  com.sec.android.app.shealth    56:00.0   \n",
       "3     19800000  53:00.0  2.888889  com.sec.android.app.shealth    52:00.0   \n",
       "4     19800000  57:00.0  1.694444  com.sec.android.app.shealth    56:00.0   \n",
       "\n",
       "   count  sample_position_type  calorie  distance  \\\n",
       "0      5                   NaN     0.20      3.20   \n",
       "1      6                   NaN     0.24      4.78   \n",
       "2      1                   NaN     0.04      0.58   \n",
       "3     25                   NaN     2.74     22.26   \n",
       "4     12                   NaN     0.48      8.85   \n",
       "\n",
       "                               datauuid  deviceuuid update_time create_time  \n",
       "0  7ba6b7d2-519c-41f9-8706-d3edafa3b0fc  MdS75U+XxL     23:57.0     23:55.8  \n",
       "1  7ba6b7d2-519c-41f9-8706-d3edafa3b0fc  MdS75U+XxL     23:57.0     23:55.8  \n",
       "2  9568572f-f33d-43ed-8dbd-aa7033744b3d  MdS75U+XxL     23:55.8     23:55.8  \n",
       "3  a144cb82-f4b1-4011-ae2c-7c8754273558  MdS75U+XxL     23:55.8     23:55.8  \n",
       "4  88278acc-964a-44ca-a4d7-bf696804582f  MdS75U+XxL     23:55.8     23:55.8  "
      ]
     },
     "execution_count": 3,
     "metadata": {},
     "output_type": "execute_result"
    }
   ],
   "source": [
    "fitbit.head()"
   ]
  },
  {
   "cell_type": "markdown",
   "metadata": {
    "collapsed": true
   },
   "source": [
    "### Select Input and Output features for our that dataSet (Value of X input and y output)\n"
   ]
  },
  {
   "cell_type": "code",
   "execution_count": 4,
   "metadata": {
    "collapsed": true
   },
   "outputs": [],
   "source": [
    "#Here we want to predict number of steps(Count) based on Calories consumed and distance covered.\n",
    "features = ['count','distance','speed']\n",
    "X = fitbit[features]\n",
    "y = fitbit['calorie']"
   ]
  },
  {
   "cell_type": "markdown",
   "metadata": {},
   "source": [
    "### Split our dataset into training set and testing set\n",
    "train_test_split is a predefined function used to split data randomly\n",
    "It takes Input data to be splited along with output data\n",
    "Test size If float, should be between 0.0 and 1.0 and represent the proportion of the dataset to include in the test split.\n",
    "If int, represents the absolute number of test samples. "
   ]
  },
  {
   "cell_type": "code",
   "execution_count": 5,
   "metadata": {
    "collapsed": true
   },
   "outputs": [],
   "source": [
    "\n",
    "from sklearn.model_selection import train_test_split\n",
    "X_train,X_test,y_train,y_test = train_test_split(X,y,test_size=0.4,random_state=5)"
   ]
  },
  {
   "cell_type": "markdown",
   "metadata": {},
   "source": [
    "### Choose apt model and create an instance of that model\n"
   ]
  },
  {
   "cell_type": "code",
   "execution_count": 6,
   "metadata": {
    "collapsed": true
   },
   "outputs": [],
   "source": [
    "#In regression we are using linear regression model for prediction purposes.\n",
    "\n",
    "from sklearn.linear_model import LinearRegression\n",
    "fit_ln_model = LinearRegression()"
   ]
  },
  {
   "cell_type": "markdown",
   "metadata": {
    "collapsed": true
   },
   "source": [
    "### Fit the model"
   ]
  },
  {
   "cell_type": "code",
   "execution_count": 7,
   "metadata": {},
   "outputs": [
    {
     "data": {
      "text/plain": [
       "LinearRegression(copy_X=True, fit_intercept=True, n_jobs=1, normalize=False)"
      ]
     },
     "execution_count": 7,
     "metadata": {},
     "output_type": "execute_result"
    }
   ],
   "source": [
    "#Fit function will \"fit\" a \"just fit\" curve(or line) for your dataset which is apt for making prediction\n",
    "#Note that fit at a certain extent will take care of overfitting  and underfitting but won't assure a right curve\n",
    "# in case where data is small or ambiguous\n",
    "\n",
    "fit_ln_model.fit(X_train,y_train)"
   ]
  },
  {
   "cell_type": "code",
   "execution_count": 8,
   "metadata": {},
   "outputs": [
    {
     "name": "stdout",
     "output_type": "stream",
     "text": [
      "0.198928150351\n",
      "[-0.01193946  0.06714398  0.04723289]\n"
     ]
    }
   ],
   "source": [
    "# to check intercept and weights associated with feature use\n",
    "\n",
    "print(fit_ln_model.intercept_)\n",
    "print(fit_ln_model.coef_)"
   ]
  },
  {
   "cell_type": "markdown",
   "metadata": {},
   "source": [
    "## Predict on test data"
   ]
  },
  {
   "cell_type": "code",
   "execution_count": 9,
   "metadata": {
    "collapsed": true
   },
   "outputs": [],
   "source": [
    "ypred = fit_ln_model.predict(X_test)"
   ]
  },
  {
   "cell_type": "markdown",
   "metadata": {},
   "source": [
    "Notice the output values after running next two commands"
   ]
  },
  {
   "cell_type": "code",
   "execution_count": 10,
   "metadata": {},
   "outputs": [
    {
     "name": "stdout",
     "output_type": "stream",
     "text": [
      "[ 5.31117222  0.89684617  5.24400829 ...,  0.39504294  5.22938227\n",
      "  4.93660227]\n"
     ]
    }
   ],
   "source": [
    "print(ypred)"
   ]
  },
  {
   "cell_type": "code",
   "execution_count": 11,
   "metadata": {
    "scrolled": true
   },
   "outputs": [
    {
     "name": "stdout",
     "output_type": "stream",
     "text": [
      "1795      4.980000\n",
      "9972      0.450000\n",
      "9525      4.880000\n",
      "7808      4.290000\n",
      "3625      1.160000\n",
      "7899      1.920000\n",
      "7079      0.030000\n",
      "6091      0.560000\n",
      "1114      1.650000\n",
      "12328     3.710000\n",
      "1101      2.170000\n",
      "9713      3.099999\n",
      "3678      5.330000\n",
      "13306     4.589999\n",
      "8989      0.040000\n",
      "1377      5.170000\n",
      "12531     3.250000\n",
      "3851      2.230000\n",
      "5773      1.290000\n",
      "8018      2.320000\n",
      "3891      1.520000\n",
      "396       4.470000\n",
      "10889     4.640000\n",
      "6685      0.440000\n",
      "11170    14.620000\n",
      "10614     4.189999\n",
      "6134      1.140000\n",
      "13525     1.480000\n",
      "11169     9.980000\n",
      "4899      7.880000\n",
      "           ...    \n",
      "1195      0.210000\n",
      "7702      3.430000\n",
      "11938     5.650000\n",
      "524       0.180000\n",
      "4213      1.120000\n",
      "671       0.050000\n",
      "12576     9.270000\n",
      "6703      0.090000\n",
      "6491      0.040000\n",
      "12681     3.740000\n",
      "13735     0.750000\n",
      "10184     0.080000\n",
      "8857      1.110000\n",
      "412       0.040000\n",
      "6338      0.070000\n",
      "8259      3.660000\n",
      "9328      3.250000\n",
      "7088      2.210000\n",
      "13804     1.230000\n",
      "8662      0.240000\n",
      "12505     4.840000\n",
      "428       3.270000\n",
      "3522      4.900000\n",
      "3410      0.040000\n",
      "11333     3.400000\n",
      "8692      0.040000\n",
      "10459     7.940000\n",
      "7732      0.120000\n",
      "1298      6.170000\n",
      "3699      5.260000\n",
      "Name: calorie, Length: 5561, dtype: float64\n"
     ]
    }
   ],
   "source": [
    "print(y_test)"
   ]
  },
  {
   "cell_type": "markdown",
   "metadata": {},
   "source": [
    "### Making a prediction for random value of calories and distance"
   ]
  },
  {
   "cell_type": "code",
   "execution_count": 12,
   "metadata": {},
   "outputs": [
    {
     "name": "stdout",
     "output_type": "stream",
     "text": [
      "[ 2.05156978]\n"
     ]
    }
   ],
   "source": [
    "i = [[3,27,1.6]]\n",
    "test = fit_ln_model.predict(i)\n",
    "print(test)"
   ]
  },
  {
   "cell_type": "markdown",
   "metadata": {},
   "source": [
    "## Accuracy of prediction"
   ]
  },
  {
   "cell_type": "code",
   "execution_count": 13,
   "metadata": {},
   "outputs": [
    {
     "data": {
      "text/plain": [
       "83.176208760008848"
      ]
     },
     "execution_count": 13,
     "metadata": {},
     "output_type": "execute_result"
    }
   ],
   "source": [
    "#Accuracy is determined using predefined function of explained_variance_score\n",
    "\n",
    "from sklearn.metrics import explained_variance_score\n",
    "100*explained_variance_score(ypred,y_test)"
   ]
  }
 ],
 "metadata": {
  "anaconda-cloud": {},
  "kernelspec": {
   "display_name": "Python 3",
   "language": "python",
   "name": "python3"
  },
  "language_info": {
   "codemirror_mode": {
    "name": "ipython",
    "version": 3
   },
   "file_extension": ".py",
   "mimetype": "text/x-python",
   "name": "python",
   "nbconvert_exporter": "python",
   "pygments_lexer": "ipython3",
   "version": "3.6.1"
  }
 },
 "nbformat": 4,
 "nbformat_minor": 1
}
